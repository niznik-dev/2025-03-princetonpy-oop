{
 "cells": [
  {
   "cell_type": "markdown",
   "source": [
    "# Object-Oriented Programming (OOP) in Python\n",
    "\n",
    "Python's implementation of OOP is a bit looser than other languages like Java or C++, but it's still very powerful. We'll cover the basics of classes, objects, inheritance, and other OOP concepts in Python."
   ],
   "metadata": {
    "collapsed": false
   },
   "id": "46b4f9ac998d121e"
  },
  {
   "cell_type": "code",
   "execution_count": null,
   "outputs": [],
   "source": [
    "class Pythonista:\n",
    "    def __init__(self, name, ide, secret_club_id):\n",
    "        self.name = name\n",
    "        self.ide = ide\n",
    "        self.__secret_club_id = secret_club_id\n",
    "        \n",
    "    def get_id_last_3(self):\n",
    "        return self.__secret_club_id[-3:]\n",
    "\n",
    "    def __str__(self):\n",
    "        return f'{self.name} uses {self.ide}'\n",
    "        \n",
    "mattie = Pythonista('Mattie N', 'PyCharm', '99-99-999')\n",
    "print(mattie)"
   ],
   "metadata": {
    "collapsed": false
   },
   "id": "e0f90bc4e6319014"
  },
  {
   "cell_type": "markdown",
   "source": [
    "In the above class, you can see that we're setting things like name and ide. You'll also notice there's a `__secret_club_id` attribute. This is a private attribute that can't be accessed directly from outside the class. We'll see how this works in a bit.\n",
    "\n",
    "We also have a `__str__` method that returns a string representation of the object. This is what gets called when you use the `print` function on an object so that you can control how it's displayed.\n",
    "\n",
    "Below you'll see you can always get the dictionary of attributes for an object using the `__dict__` attribute:"
   ],
   "metadata": {
    "collapsed": false
   },
   "id": "7f72945d52c8f75b"
  },
  {
   "cell_type": "code",
   "execution_count": null,
   "outputs": [],
   "source": [
    "mattie.__dict__"
   ],
   "metadata": {
    "collapsed": false
   },
   "id": "31cbbad5eee2d1c3"
  },
  {
   "cell_type": "markdown",
   "source": [
    "And what happens when you try to access a private attribute?"
   ],
   "metadata": {
    "collapsed": false
   },
   "id": "defcf3cd940dac31"
  },
  {
   "cell_type": "code",
   "execution_count": null,
   "outputs": [],
   "source": [
    "mattie.__secret_club_id"
   ],
   "metadata": {
    "collapsed": false
   },
   "id": "e308d58df1932c26"
  },
  {
   "cell_type": "markdown",
   "source": [
    "Shut down! You can't access private attributes from outside the class. But you can still access them with the mangling syntax (mattie._Pythonista__secret_club_id). In languages like Java, you'd use getters and setters to access private attributes, but in Python, you can just access them directly with the mangling syntax. So you may never feel quite as safe with private attributes in Python as you would in Java. Anyway, this concept is called encapsulation and is a good practice; you don't want to expose all the attributes of a class to the outside world and randomly overwrite them but you probably want to do something with them inside the class.\n",
    "\n",
    "Instead of just setting strings, we can also set objects as attributes. For example, we can set an `Ide` object as an attribute of a `Pythonista` object so that we can access extra information about the IDE easily. This follows the principle of composition, where you build more complex classes by combining simpler ones, and single responsibility, where each class has a single job. (If we made IDE a dictionary or something inside of the Pythonista class, it would violate the single responsibility principle.)"
   ],
   "metadata": {
    "collapsed": false
   },
   "id": "dfb199b05301ca31"
  },
  {
   "cell_type": "code",
   "execution_count": null,
   "outputs": [],
   "source": [
    "class Ide:\n",
    "    def __init__(self, name, company):\n",
    "        self.name = name\n",
    "        self.company = company\n",
    "\n",
    "    def __str__(self):\n",
    "        return f'{self.name} by {self.company}'\n",
    "    \n",
    "pycharm = Ide('PyCharm', 'JetBrains')\n",
    "vscode = Ide('VS Code', 'Microsoft')\n",
    "\n",
    "print(pycharm)\n",
    "print(vscode)"
   ],
   "metadata": {
    "collapsed": false
   },
   "id": "b1c38d012a6a5bc9"
  },
  {
   "cell_type": "markdown",
   "source": [
    "Of course I use Pycharm :)"
   ],
   "metadata": {
    "collapsed": false
   },
   "id": "ec692ace53da6954"
  },
  {
   "cell_type": "code",
   "execution_count": null,
   "outputs": [],
   "source": [
    "mattie.ide = pycharm"
   ],
   "metadata": {
    "collapsed": false
   },
   "id": "e8caa02f729eb755"
  },
  {
   "cell_type": "code",
   "execution_count": null,
   "outputs": [],
   "source": [
    "print(mattie)\n",
    "print(mattie.__dict__)\n",
    "print(mattie.ide.__dict__)"
   ],
   "metadata": {
    "collapsed": false
   },
   "id": "cc061c8d009e2a7f"
  },
  {
   "cell_type": "markdown",
   "source": [
    "So when you run __dict__ on mattie, you don't immediately get the __dict__ of the `Ide` object. Instead, you get the memory address of the `Ide` object. But you can still access the `Ide` object's attributes by chaining the attribute names together. This is where writing a good __str__ method can help!"
   ],
   "metadata": {
    "collapsed": false
   },
   "id": "bf4d157e5574a629"
  },
  {
   "cell_type": "markdown",
   "source": [
    "## Inheritance!\n",
    "\n",
    "We can take a class and extend it for specific functionality. For example, not all Pythonistas are at a University (specifically Princeton), so we can create a new class `PrincetonPythonista` that extends the `Pythonista` class to add University-specific attributes and functionality."
   ],
   "metadata": {
    "collapsed": false
   },
   "id": "382e310be0e5e0ec"
  },
  {
   "cell_type": "code",
   "execution_count": null,
   "outputs": [],
   "source": [
    "class PrincetonPythonista(Pythonista):\n",
    "    def __init__(self, name, ide, secret_club_id, role):\n",
    "        super().__init__(name, ide, secret_club_id)\n",
    "        self.role = role\n",
    "        \n",
    "    def is_student(self):\n",
    "        return self.role in ['undergrad', 'grad']\n",
    "        \n",
    "    def __str__(self):\n",
    "        return f'{self.name} uses {self.ide} and is {self.role} at Princeton'\n",
    "    \n",
    "vim = Ide('vim', 'Bram Moolenaar')\n",
    "mattc = PrincetonPythonista('Matt C', vim, '11-11-111', 'staff')\n",
    "print(mattc)\n",
    "print(mattc.get_id_last_3())\n",
    "print(mattc.is_student())"
   ],
   "metadata": {
    "collapsed": false
   },
   "id": "cb4827050dac0211"
  },
  {
   "cell_type": "markdown",
   "source": [
    "The important things to note are (a) you need to put the superclass in the parentheses of the subclass, and (b) you need to call the superclass's `__init__` method in the subclass's `__init__` method. You can then add new attributes and methods to the subclass."
   ],
   "metadata": {
    "collapsed": false
   },
   "id": "8b72283161108da8"
  },
  {
   "cell_type": "markdown",
   "source": [
    "Let's continue our discussion by looking at Design Patterns in the middle of [this blog post](https://medium.com/@poppyseedDev/mastering-object-oriented-programming-best-practices-and-design-patterns-e570d511b3b1)\n"
   ],
   "metadata": {
    "collapsed": false
   },
   "id": "3a645d30e758eef8"
  },
  {
   "cell_type": "code",
   "execution_count": null,
   "outputs": [],
   "source": [],
   "metadata": {
    "collapsed": false
   },
   "id": "64c65a5eda343ada"
  }
 ],
 "metadata": {
  "kernelspec": {
   "display_name": "Python 3",
   "language": "python",
   "name": "python3"
  },
  "language_info": {
   "codemirror_mode": {
    "name": "ipython",
    "version": 2
   },
   "file_extension": ".py",
   "mimetype": "text/x-python",
   "name": "python",
   "nbconvert_exporter": "python",
   "pygments_lexer": "ipython2",
   "version": "2.7.6"
  }
 },
 "nbformat": 4,
 "nbformat_minor": 5
}
